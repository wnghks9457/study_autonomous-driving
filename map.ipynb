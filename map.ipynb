{
 "cells": [
  {
   "cell_type": "code",
   "execution_count": null,
   "metadata": {},
   "outputs": [],
   "source": [
    "import geopandas as gpd\n",
    "import matplotlib.pyplot as plt\n",
    "\n",
    "plt.reParams[\"font.family\"] = 'NanumGothic' # 한글 폰트\n",
    "plt.reParams[\"figure.figsize\"] = (10, 10)\n",
    "\n",
    "# 파일 읽기\n",
    "fmtc_file = \"E:\\fmtc_hdmap\\A1_LANE.shp\"\n",
    "fmtc = gpd.read_file(fmtc_file)\n",
    "fmtc"
   ]
  }
 ],
 "metadata": {
  "language_info": {
   "name": "python"
  },
  "orig_nbformat": 4
 },
 "nbformat": 4,
 "nbformat_minor": 2
}
